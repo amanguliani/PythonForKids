{
  "nbformat": 4,
  "nbformat_minor": 0,
  "metadata": {
    "colab": {
      "name": "Pop Quiz - Python-Lecture 5-w/Solution.ipynb",
      "provenance": []
    },
    "kernelspec": {
      "name": "python3",
      "display_name": "Python 3"
    }
  },
  "cells": [
    {
      "cell_type": "markdown",
      "metadata": {
        "id": "WdKdGyoyBfN1",
        "colab_type": "text"
      },
      "source": [
        "Define a variable with name var_string with value \"This is a quiz\"\n",
        "\n",
        "\n"
      ]
    },
    {
      "cell_type": "code",
      "metadata": {
        "id": "W-OWQjSNBwnm",
        "colab_type": "code",
        "colab": {}
      },
      "source": [
        "var_string = \"This is a quiz\""
      ],
      "execution_count": 0,
      "outputs": []
    },
    {
      "cell_type": "markdown",
      "metadata": {
        "id": "TpPgLNjSB19t",
        "colab_type": "text"
      },
      "source": [
        "Print out the value of the index 10 in the var_string in two ways"
      ]
    },
    {
      "cell_type": "code",
      "metadata": {
        "id": "S-xw8Y0aCB7D",
        "colab_type": "code",
        "outputId": "0944f0b9-7d2a-4ad7-999a-77978f00ed45",
        "colab": {
          "base_uri": "https://localhost:8080/",
          "height": 34
        }
      },
      "source": [
        "var_string[10]"
      ],
      "execution_count": 8,
      "outputs": [
        {
          "output_type": "execute_result",
          "data": {
            "text/plain": [
              "'q'"
            ]
          },
          "metadata": {
            "tags": []
          },
          "execution_count": 8
        }
      ]
    },
    {
      "cell_type": "code",
      "metadata": {
        "id": "xC1YVTd0CCIF",
        "colab_type": "code",
        "outputId": "0c7b3df9-6754-456b-b289-bdf9e08a6cec",
        "colab": {
          "base_uri": "https://localhost:8080/",
          "height": 34
        }
      },
      "source": [
        "var_string[-4]"
      ],
      "execution_count": 9,
      "outputs": [
        {
          "output_type": "execute_result",
          "data": {
            "text/plain": [
              "'q'"
            ]
          },
          "metadata": {
            "tags": []
          },
          "execution_count": 9
        }
      ]
    },
    {
      "cell_type": "markdown",
      "metadata": {
        "id": "cVOaBCvZCCh2",
        "colab_type": "text"
      },
      "source": [
        "Print out the length of var_string"
      ]
    },
    {
      "cell_type": "code",
      "metadata": {
        "id": "88AE5-OJCJex",
        "colab_type": "code",
        "outputId": "a3fc9181-9a73-4f0b-959a-34bf93fd177a",
        "colab": {
          "base_uri": "https://localhost:8080/",
          "height": 34
        }
      },
      "source": [
        "len(var_string)"
      ],
      "execution_count": 10,
      "outputs": [
        {
          "output_type": "execute_result",
          "data": {
            "text/plain": [
              "14"
            ]
          },
          "metadata": {
            "tags": []
          },
          "execution_count": 10
        }
      ]
    },
    {
      "cell_type": "markdown",
      "metadata": {
        "id": "0o-hyP9lCJ9S",
        "colab_type": "text"
      },
      "source": [
        "Reverse the string var_string"
      ]
    },
    {
      "cell_type": "code",
      "metadata": {
        "id": "0W0ZS5QSCPn2",
        "colab_type": "code",
        "outputId": "a1970c9c-2efd-4a2f-a07e-7cceeca9c7c5",
        "colab": {
          "base_uri": "https://localhost:8080/",
          "height": 34
        }
      },
      "source": [
        "var_string[::-1]"
      ],
      "execution_count": 20,
      "outputs": [
        {
          "output_type": "execute_result",
          "data": {
            "text/plain": [
              "'ziuq a si sihT'"
            ]
          },
          "metadata": {
            "tags": []
          },
          "execution_count": 20
        }
      ]
    },
    {
      "cell_type": "markdown",
      "metadata": {
        "id": "_u3AfwQDCQKB",
        "colab_type": "text"
      },
      "source": [
        "Define a variable with name var_int with value 10"
      ]
    },
    {
      "cell_type": "code",
      "metadata": {
        "id": "hKsPMLmsCZnO",
        "colab_type": "code",
        "colab": {}
      },
      "source": [
        "var_int = 10"
      ],
      "execution_count": 0,
      "outputs": []
    },
    {
      "cell_type": "markdown",
      "metadata": {
        "id": "0agGA5boCcwp",
        "colab_type": "text"
      },
      "source": [
        "Print out the value of var_int + 5"
      ]
    },
    {
      "cell_type": "code",
      "metadata": {
        "id": "gYaU-KQHChZC",
        "colab_type": "code",
        "outputId": "ce1b7c70-2645-4b84-bbe0-9338763283b0",
        "colab": {
          "base_uri": "https://localhost:8080/",
          "height": 34
        }
      },
      "source": [
        "var_int + 5"
      ],
      "execution_count": 22,
      "outputs": [
        {
          "output_type": "execute_result",
          "data": {
            "text/plain": [
              "15"
            ]
          },
          "metadata": {
            "tags": []
          },
          "execution_count": 22
        }
      ]
    },
    {
      "cell_type": "markdown",
      "metadata": {
        "id": "vaW1IuX0CiJI",
        "colab_type": "text"
      },
      "source": [
        "Print out the value of var_int % 5"
      ]
    },
    {
      "cell_type": "code",
      "metadata": {
        "id": "fRUQX5vpCn9z",
        "colab_type": "code",
        "outputId": "2cabab8f-481f-42e4-a01d-68de9ed26552",
        "colab": {
          "base_uri": "https://localhost:8080/",
          "height": 34
        }
      },
      "source": [
        "var_int % 5"
      ],
      "execution_count": 23,
      "outputs": [
        {
          "output_type": "execute_result",
          "data": {
            "text/plain": [
              "0"
            ]
          },
          "metadata": {
            "tags": []
          },
          "execution_count": 23
        }
      ]
    },
    {
      "cell_type": "markdown",
      "metadata": {
        "id": "rFwwot5FCoFk",
        "colab_type": "text"
      },
      "source": [
        "Take an input value for name with a messaage \"Whats your name : \" and store it in a variable var_name"
      ]
    },
    {
      "cell_type": "code",
      "metadata": {
        "id": "ffCMeuXwC2K8",
        "colab_type": "code",
        "outputId": "bcf2265a-01d3-4b15-d837-cad5efa09ee0",
        "colab": {
          "base_uri": "https://localhost:8080/",
          "height": 34
        }
      },
      "source": [
        "\n",
        "var_name =input(\"What's your name?\")\n"
      ],
      "execution_count": 24,
      "outputs": [
        {
          "output_type": "stream",
          "text": [
            "What's your name?Aman\n"
          ],
          "name": "stdout"
        }
      ]
    },
    {
      "cell_type": "markdown",
      "metadata": {
        "id": "iXHHxznCC2Vk",
        "colab_type": "text"
      },
      "source": [
        "Print out only the first 3 characters in var_name"
      ]
    },
    {
      "cell_type": "code",
      "metadata": {
        "id": "lqY_4aW6DbXs",
        "colab_type": "code",
        "outputId": "b6fb7542-0271-47f1-cd96-2afd05df0021",
        "colab": {
          "base_uri": "https://localhost:8080/",
          "height": 34
        }
      },
      "source": [
        "var_name[0:3]"
      ],
      "execution_count": 25,
      "outputs": [
        {
          "output_type": "execute_result",
          "data": {
            "text/plain": [
              "'Ama'"
            ]
          },
          "metadata": {
            "tags": []
          },
          "execution_count": 25
        }
      ]
    },
    {
      "cell_type": "markdown",
      "metadata": {
        "id": "7586EZSnDbo5",
        "colab_type": "text"
      },
      "source": [
        "Define a empty list with variable name var_list"
      ]
    },
    {
      "cell_type": "code",
      "metadata": {
        "id": "vbjUv0jEEGoP",
        "colab_type": "code",
        "colab": {}
      },
      "source": [
        "var_list =[]"
      ],
      "execution_count": 0,
      "outputs": []
    },
    {
      "cell_type": "markdown",
      "metadata": {
        "id": "Hxd0AJRYEGwX",
        "colab_type": "text"
      },
      "source": [
        "Add the strings \"This\", \"Is\", \"A\" and \"List\" to var_list"
      ]
    },
    {
      "cell_type": "code",
      "metadata": {
        "id": "ACeAPxESEQGB",
        "colab_type": "code",
        "outputId": "0ea356fb-b065-4b6b-cb9c-c80aaaccc9f9",
        "colab": {
          "base_uri": "https://localhost:8080/",
          "height": 34
        }
      },
      "source": [
        "var_list.append(\"This\")\n",
        "var_list.append(\"Is\")\n",
        "var_list.append(\"A\")\n",
        "var_list.append(\"List\")\n",
        "var_list"
      ],
      "execution_count": 31,
      "outputs": [
        {
          "output_type": "execute_result",
          "data": {
            "text/plain": [
              "['This', 'Is', 'A', 'List']"
            ]
          },
          "metadata": {
            "tags": []
          },
          "execution_count": 31
        }
      ]
    },
    {
      "cell_type": "code",
      "metadata": {
        "id": "Q_wBSJkg02LW",
        "colab_type": "code",
        "colab": {
          "base_uri": "https://localhost:8080/",
          "height": 34
        },
        "outputId": "b3bab0a8-fdcc-4d04-bfff-a56e7aba0f4a"
      },
      "source": [
        "#or \n",
        "var_list = [\"This\", \"Is\", \"A\", \"List\"]\n",
        "var_list"
      ],
      "execution_count": 35,
      "outputs": [
        {
          "output_type": "execute_result",
          "data": {
            "text/plain": [
              "['This', 'Is', 'A', 'List']"
            ]
          },
          "metadata": {
            "tags": []
          },
          "execution_count": 35
        }
      ]
    },
    {
      "cell_type": "markdown",
      "metadata": {
        "id": "Nf5_M7LcEQus",
        "colab_type": "text"
      },
      "source": [
        "Remove \"Is\" from var_list"
      ]
    },
    {
      "cell_type": "code",
      "metadata": {
        "id": "oXAFaIbDEUul",
        "colab_type": "code",
        "outputId": "3d1c09c2-ab6a-4ee5-f6bf-6c2fd5a9de8c",
        "colab": {
          "base_uri": "https://localhost:8080/",
          "height": 34
        }
      },
      "source": [
        "var_list.remove(\"Is\")\n",
        "var_list"
      ],
      "execution_count": 36,
      "outputs": [
        {
          "output_type": "execute_result",
          "data": {
            "text/plain": [
              "['This', 'A', 'List']"
            ]
          },
          "metadata": {
            "tags": []
          },
          "execution_count": 36
        }
      ]
    },
    {
      "cell_type": "markdown",
      "metadata": {
        "id": "c86-OyiIEU3r",
        "colab_type": "text"
      },
      "source": [
        "Replace \"This\" with \"Here\""
      ]
    },
    {
      "cell_type": "code",
      "metadata": {
        "id": "XB0A5WvESi_v",
        "colab_type": "code",
        "outputId": "d962b708-bbe6-47a7-878b-3cd6b4a508c8",
        "colab": {
          "base_uri": "https://localhost:8080/",
          "height": 34
        }
      },
      "source": [
        "var_list[0] = \"Here\"\n",
        "var_list"
      ],
      "execution_count": 37,
      "outputs": [
        {
          "output_type": "execute_result",
          "data": {
            "text/plain": [
              "['Here', 'A', 'List']"
            ]
          },
          "metadata": {
            "tags": []
          },
          "execution_count": 37
        }
      ]
    },
    {
      "cell_type": "markdown",
      "metadata": {
        "id": "GOfwg3dqSjIo",
        "colab_type": "text"
      },
      "source": [
        "Insert \"Is\" in var_list after \"Here\""
      ]
    },
    {
      "cell_type": "code",
      "metadata": {
        "id": "Q2sIJ39GSqhT",
        "colab_type": "code",
        "colab": {
          "base_uri": "https://localhost:8080/",
          "height": 34
        },
        "outputId": "c1725ebb-0476-4176-a4b5-e6e015732712"
      },
      "source": [
        "var_list.insert(1,\"Is\")\n",
        "var_list"
      ],
      "execution_count": 42,
      "outputs": [
        {
          "output_type": "execute_result",
          "data": {
            "text/plain": [
              "['Here', 'Is', 'A', 'List']"
            ]
          },
          "metadata": {
            "tags": []
          },
          "execution_count": 42
        }
      ]
    },
    {
      "cell_type": "markdown",
      "metadata": {
        "id": "RinnczAcSqzb",
        "colab_type": "text"
      },
      "source": [
        "Define a variable var_string_list = \"This is my second string\". Create a list new_list from the string var_string_list"
      ]
    },
    {
      "cell_type": "code",
      "metadata": {
        "id": "LI6fVnavS48g",
        "colab_type": "code",
        "colab": {
          "base_uri": "https://localhost:8080/",
          "height": 34
        },
        "outputId": "473dcfb5-286a-4fdc-a55a-38ca5d345f62"
      },
      "source": [
        "var_string_list = \"This is my second string\"\n",
        "new_list = var_string_list.split()\n",
        "new_list\n"
      ],
      "execution_count": 44,
      "outputs": [
        {
          "output_type": "execute_result",
          "data": {
            "text/plain": [
              "['This', 'is', 'my', 'second', 'string']"
            ]
          },
          "metadata": {
            "tags": []
          },
          "execution_count": 44
        }
      ]
    },
    {
      "cell_type": "markdown",
      "metadata": {
        "id": "a7wejt3CS5HA",
        "colab_type": "text"
      },
      "source": [
        "Define a variable called var_lang with \"Python\". Print \"This is Python\" if the var_lang is 6 characters long and starts with Captial P and ends with n, else print \"This is not Python\""
      ]
    },
    {
      "cell_type": "code",
      "metadata": {
        "id": "FjZBSoNaTcMw",
        "colab_type": "code",
        "colab": {}
      },
      "source": [
        "var_lang = \"Python\""
      ],
      "execution_count": 0,
      "outputs": []
    },
    {
      "cell_type": "code",
      "metadata": {
        "id": "c-ffM8wPTc9F",
        "colab_type": "code",
        "outputId": "938f6260-ff34-412f-9316-31615fcbfcae",
        "colab": {
          "base_uri": "https://localhost:8080/",
          "height": 34
        }
      },
      "source": [
        "if len(var_lang) == 6 and var_lang[0] == \"P\" and var_lang[5] == \"n\":\n",
        "  print(\"This is Python\")\n",
        "else:\n",
        "  print(\"This is not python\")"
      ],
      "execution_count": 47,
      "outputs": [
        {
          "output_type": "stream",
          "text": [
            "This is Python\n"
          ],
          "name": "stdout"
        }
      ]
    },
    {
      "cell_type": "markdown",
      "metadata": {
        "id": "Pb900zs5Tef-",
        "colab_type": "text"
      },
      "source": [
        "Define a variable called var_word with \"WORD\". Print out \"It exists\" if R exists in var_word, else print out \"It doesnt exist\""
      ]
    },
    {
      "cell_type": "code",
      "metadata": {
        "id": "9d5Cliv3UYgO",
        "colab_type": "code",
        "colab": {}
      },
      "source": [
        "var_word = \"WORD\""
      ],
      "execution_count": 0,
      "outputs": []
    },
    {
      "cell_type": "code",
      "metadata": {
        "id": "v-Ph9dwxUYrC",
        "colab_type": "code",
        "outputId": "18880c49-de67-4a1d-824a-a8719c305437",
        "colab": {
          "base_uri": "https://localhost:8080/",
          "height": 34
        }
      },
      "source": [
        "if \"R\" in var_word:\n",
        "  print(\"It exists!\")\n",
        "else: \n",
        "  print(\"It doesn't exist\")"
      ],
      "execution_count": 49,
      "outputs": [
        {
          "output_type": "stream",
          "text": [
            "It exists!\n"
          ],
          "name": "stdout"
        }
      ]
    }
  ]
}
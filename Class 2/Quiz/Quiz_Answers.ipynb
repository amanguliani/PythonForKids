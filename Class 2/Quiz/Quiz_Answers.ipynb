{
  "nbformat": 4,
  "nbformat_minor": 0,
  "metadata": {
    "colab": {
      "name": "Quiz-Answers.ipynb",
      "provenance": []
    },
    "kernelspec": {
      "name": "python3",
      "display_name": "Python 3"
    }
  },
  "cells": [
    {
      "cell_type": "markdown",
      "metadata": {
        "id": "gLWkTt8xzFLT",
        "colab_type": "text"
      },
      "source": [
        "# Class Practice Quiz"
      ]
    },
    {
      "cell_type": "markdown",
      "metadata": {
        "id": "2krKTF8BzLEX",
        "colab_type": "text"
      },
      "source": [
        "Q1 Define a variable with name var_string with value \"This is a quiz\""
      ]
    },
    {
      "cell_type": "code",
      "metadata": {
        "id": "0V-cuUUmzLwe",
        "colab_type": "code",
        "colab": {}
      },
      "source": [
        "var_string = \"This is a quiz\""
      ],
      "execution_count": null,
      "outputs": []
    },
    {
      "cell_type": "markdown",
      "metadata": {
        "id": "oBkrglcGzrsM",
        "colab_type": "text"
      },
      "source": [
        "Q2 Print out the value of the index 10 in the var_string in two ways"
      ]
    },
    {
      "cell_type": "code",
      "metadata": {
        "id": "AnFfDJVvzz8w",
        "colab_type": "code",
        "colab": {
          "base_uri": "https://localhost:8080/",
          "height": 35
        },
        "outputId": "e44affcf-b15e-4011-9f23-a9db8fcaccd0"
      },
      "source": [
        "var_string[10]"
      ],
      "execution_count": null,
      "outputs": [
        {
          "output_type": "execute_result",
          "data": {
            "application/vnd.google.colaboratory.intrinsic+json": {
              "type": "string"
            },
            "text/plain": [
              "'q'"
            ]
          },
          "metadata": {
            "tags": []
          },
          "execution_count": 2
        }
      ]
    },
    {
      "cell_type": "code",
      "metadata": {
        "id": "6vvO9Z7bz0HA",
        "colab_type": "code",
        "colab": {
          "base_uri": "https://localhost:8080/",
          "height": 35
        },
        "outputId": "5135b3f8-9f79-4e42-effc-66bb17e3bc42"
      },
      "source": [
        "\n",
        "var_string[-4]"
      ],
      "execution_count": null,
      "outputs": [
        {
          "output_type": "execute_result",
          "data": {
            "application/vnd.google.colaboratory.intrinsic+json": {
              "type": "string"
            },
            "text/plain": [
              "'q'"
            ]
          },
          "metadata": {
            "tags": []
          },
          "execution_count": 5
        }
      ]
    },
    {
      "cell_type": "markdown",
      "metadata": {
        "id": "9JV3DZz2z4kZ",
        "colab_type": "text"
      },
      "source": [
        "Q3 Print out the length of var_string"
      ]
    },
    {
      "cell_type": "code",
      "metadata": {
        "id": "lMc0KtZVz6Su",
        "colab_type": "code",
        "colab": {
          "base_uri": "https://localhost:8080/",
          "height": 35
        },
        "outputId": "3ff4bf34-e967-4872-cb0a-fb20d3037a15"
      },
      "source": [
        "len(var_string)"
      ],
      "execution_count": null,
      "outputs": [
        {
          "output_type": "execute_result",
          "data": {
            "text/plain": [
              "14"
            ]
          },
          "metadata": {
            "tags": []
          },
          "execution_count": 6
        }
      ]
    },
    {
      "cell_type": "markdown",
      "metadata": {
        "id": "wQGALc-Lz6k3",
        "colab_type": "text"
      },
      "source": [
        "Q4 Define a variable with name var_int with value 10"
      ]
    },
    {
      "cell_type": "code",
      "metadata": {
        "id": "qX0sSZsG0D4x",
        "colab_type": "code",
        "colab": {}
      },
      "source": [
        "var_int = 10"
      ],
      "execution_count": null,
      "outputs": []
    },
    {
      "cell_type": "markdown",
      "metadata": {
        "id": "YTq1R7fgz96h",
        "colab_type": "text"
      },
      "source": [
        "Q5 Print out the value of var_int % 5"
      ]
    },
    {
      "cell_type": "code",
      "metadata": {
        "id": "ST8Glj8H0MVD",
        "colab_type": "code",
        "colab": {
          "base_uri": "https://localhost:8080/",
          "height": 35
        },
        "outputId": "0546016c-740c-40d3-bdad-5116a393cbb6"
      },
      "source": [
        "var_int % 5"
      ],
      "execution_count": null,
      "outputs": [
        {
          "output_type": "execute_result",
          "data": {
            "text/plain": [
              "0"
            ]
          },
          "metadata": {
            "tags": []
          },
          "execution_count": 8
        }
      ]
    },
    {
      "cell_type": "markdown",
      "metadata": {
        "id": "v6TXnJUl0Mwi",
        "colab_type": "text"
      },
      "source": [
        "Q6. Take an input value for name with a messaage \"Whats your name : \" and store it in a variable var_name"
      ]
    },
    {
      "cell_type": "code",
      "metadata": {
        "id": "B55sXDB_0QAN",
        "colab_type": "code",
        "colab": {
          "base_uri": "https://localhost:8080/",
          "height": 35
        },
        "outputId": "82e917da-deb5-4aca-8209-19d34b367c61"
      },
      "source": [
        "var_name = input(\"Whats your name: \")"
      ],
      "execution_count": null,
      "outputs": [
        {
          "output_type": "stream",
          "text": [
            "Whats your name: Aman\n"
          ],
          "name": "stdout"
        }
      ]
    },
    {
      "cell_type": "markdown",
      "metadata": {
        "id": "U_XSwZqK0Qem",
        "colab_type": "text"
      },
      "source": [
        "Q7. Print out only the first 3 characters in var_name"
      ]
    },
    {
      "cell_type": "code",
      "metadata": {
        "id": "3mJmSrM50Yrq",
        "colab_type": "code",
        "colab": {
          "base_uri": "https://localhost:8080/",
          "height": 35
        },
        "outputId": "8329bc6c-13a9-477b-dfbb-4ef4605034cd"
      },
      "source": [
        "var_name[0:3]"
      ],
      "execution_count": null,
      "outputs": [
        {
          "output_type": "execute_result",
          "data": {
            "application/vnd.google.colaboratory.intrinsic+json": {
              "type": "string"
            },
            "text/plain": [
              "'Ama'"
            ]
          },
          "metadata": {
            "tags": []
          },
          "execution_count": 10
        }
      ]
    },
    {
      "cell_type": "markdown",
      "metadata": {
        "id": "Uy2M0vv91aFk",
        "colab_type": "text"
      },
      "source": [
        "Q8.Print out \"Hello {var_name} your 3 digit code is {first 3 characters of var_name}\""
      ]
    },
    {
      "cell_type": "code",
      "metadata": {
        "id": "tCNBTERl1bzT",
        "colab_type": "code",
        "colab": {
          "base_uri": "https://localhost:8080/",
          "height": 35
        },
        "outputId": "463b9801-fe86-4bd0-c8ae-33d27cd42404"
      },
      "source": [
        "print (\"Hello\", var_name, \"your 3 digit code is\",  var_name[0:3])"
      ],
      "execution_count": null,
      "outputs": [
        {
          "output_type": "stream",
          "text": [
            "Hello Aman your 3 digit code is Ama\n"
          ],
          "name": "stdout"
        }
      ]
    },
    {
      "cell_type": "markdown",
      "metadata": {
        "id": "76ddYSRv0T0W",
        "colab_type": "text"
      },
      "source": [
        "Q9. Define a empty list with variable name var_list"
      ]
    },
    {
      "cell_type": "code",
      "metadata": {
        "id": "ItU44LmW0UTd",
        "colab_type": "code",
        "colab": {}
      },
      "source": [
        "var_list = []"
      ],
      "execution_count": null,
      "outputs": []
    },
    {
      "cell_type": "markdown",
      "metadata": {
        "id": "JdQ0Ru0L0agD",
        "colab_type": "text"
      },
      "source": [
        "Q10. Add the strings \"This\", \"Is\", \"A\" and \"List\" to var_list"
      ]
    },
    {
      "cell_type": "code",
      "metadata": {
        "id": "niRtWtOd0c0M",
        "colab_type": "code",
        "colab": {}
      },
      "source": [
        "var_list.append(\"This\")\n",
        "var_list.append(\"Is\")\n",
        "var_list.append(\"A\")\n",
        "var_list.append(\"List\")"
      ],
      "execution_count": null,
      "outputs": []
    },
    {
      "cell_type": "markdown",
      "metadata": {
        "id": "E1WDaj8v0fNu",
        "colab_type": "text"
      },
      "source": [
        "Q11. Remove \"Is\" from var_list"
      ]
    },
    {
      "cell_type": "code",
      "metadata": {
        "id": "HHezWNAo0hSQ",
        "colab_type": "code",
        "colab": {}
      },
      "source": [
        "var_list.remove(\"Is\")"
      ],
      "execution_count": null,
      "outputs": []
    },
    {
      "cell_type": "markdown",
      "metadata": {
        "id": "4NnXeuLw0gnE",
        "colab_type": "text"
      },
      "source": [
        "Q12. Replace \"This\" with \"Here\" in var_list"
      ]
    },
    {
      "cell_type": "code",
      "metadata": {
        "id": "s6T7OjZu0s35",
        "colab_type": "code",
        "colab": {
          "base_uri": "https://localhost:8080/",
          "height": 35
        },
        "outputId": "c7568b19-1490-43ef-d13f-0dc767610a90"
      },
      "source": [
        "var_list[0] = \"Here\"\n",
        "print (var_list)"
      ],
      "execution_count": null,
      "outputs": [
        {
          "output_type": "stream",
          "text": [
            "['Here', 'A', 'List']\n"
          ],
          "name": "stdout"
        }
      ]
    },
    {
      "cell_type": "markdown",
      "metadata": {
        "id": "0mZn_-QL0tNT",
        "colab_type": "text"
      },
      "source": [
        "Q13. Define a variable called var_word with value \"WORD\" and var_char with value R. Print out \"It exists\" if var_char exists in var_word, else print out \"It doesnt exist\""
      ]
    },
    {
      "cell_type": "code",
      "metadata": {
        "id": "oNGMvgi006ZR",
        "colab_type": "code",
        "colab": {}
      },
      "source": [
        "var_word = \"WORD\"\n",
        "var_char = \"R\""
      ],
      "execution_count": null,
      "outputs": []
    },
    {
      "cell_type": "code",
      "metadata": {
        "id": "Sad4N6bB06kE",
        "colab_type": "code",
        "colab": {
          "base_uri": "https://localhost:8080/",
          "height": 35
        },
        "outputId": "6028dd9e-ef9d-44c8-f0d4-7c109eacdb2c"
      },
      "source": [
        "if var_char in var_word:\n",
        "  print (\"It exists !\")\n",
        "else:\n",
        "  print (\"It doesnt exist\")"
      ],
      "execution_count": null,
      "outputs": [
        {
          "output_type": "stream",
          "text": [
            "It exists !\n"
          ],
          "name": "stdout"
        }
      ]
    },
    {
      "cell_type": "markdown",
      "metadata": {
        "id": "Z8jOFvMU185z",
        "colab_type": "text"
      },
      "source": [
        "Q14. Make a number guessing game. \n",
        "\n",
        "Using random lib, define a variable guess_number which takes a random value between 1 and 100 using\n",
        "random.randint(1, 100)\n",
        "\n",
        "Now take an input from the user of your guess and give them clues as follows:\n",
        "\n",
        "1. If the input number is higher than guess_number : Print \"Guess a lower nummber\" and keep going\n",
        "2. If the input number is lower than guess_number : Print \"Guess a higher nummber\" and keep going\n",
        "3. If the input number matches the guess_number : Print \"You Guessed it !!\" and end the game.\n",
        "\n",
        "Give the user 20 chances to guess."
      ]
    },
    {
      "cell_type": "code",
      "metadata": {
        "id": "p85THDCu3qy0",
        "colab_type": "code",
        "colab": {
          "base_uri": "https://localhost:8080/",
          "height": 207
        },
        "outputId": "ba3cee2d-f7ab-46cc-e0aa-627d36cd2b39"
      },
      "source": [
        "import random\n",
        "guess_number = random.randint(1,100)\n",
        "\n",
        "guessed = False\n",
        "tries = 0\n",
        "\n",
        "print (\"Number Guessing Game: I have guessed a random number between 1 to 100, can you find it ? \")\n",
        "\n",
        "while not guessed and tries < 10:\n",
        "  number = int(input(\"Whats your guess : \"))\n",
        "  if number == guess_number:\n",
        "    print (\"You Guessed it \")\n",
        "    guessed = True\n",
        "  elif number < guess_number:\n",
        "    print (\"Guess Higher\")\n",
        "  else:\n",
        "    print (\"Guess Lower\")\n",
        "  tries = tries + 1\n",
        "\n",
        "if not guessed :\n",
        "  print (\"Sorry your chances are up, my number was\", guess_number)"
      ],
      "execution_count": null,
      "outputs": [
        {
          "output_type": "stream",
          "text": [
            "Number Guessing Game: I have guessed a random number between 1 to 100, can you find it ? \n",
            "Whats your guess : 50\n",
            "Guess Higher\n",
            "Whats your guess : 75\n",
            "Guess Lower\n",
            "Whats your guess : 62\n",
            "Guess Higher\n",
            "Whats your guess : 70\n",
            "Guess Higher\n",
            "Whats your guess : 72\n",
            "You Guessed it \n"
          ],
          "name": "stdout"
        }
      ]
    }
  ]
}
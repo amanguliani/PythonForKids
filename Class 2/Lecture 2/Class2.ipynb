{
  "nbformat": 4,
  "nbformat_minor": 0,
  "metadata": {
    "colab": {
      "name": "Practice Book Python Class - Aman",
      "provenance": [],
      "collapsed_sections": []
    },
    "kernelspec": {
      "name": "python3",
      "display_name": "Python 3"
    }
  },
  "cells": [
    {
      "cell_type": "markdown",
      "metadata": {
        "id": "bOrUY_36rT3W",
        "colab_type": "text"
      },
      "source": [
        "# Class 1"
      ]
    },
    {
      "cell_type": "markdown",
      "metadata": {
        "id": "f_abhSPbsWkN",
        "colab_type": "text"
      },
      "source": [
        "##Printing"
      ]
    },
    {
      "cell_type": "code",
      "metadata": {
        "id": "jszRzuQMrYzE",
        "colab_type": "code",
        "colab": {
          "base_uri": "https://localhost:8080/",
          "height": 34
        },
        "outputId": "8eb80838-bce7-408f-eba4-c65c818a7f8e"
      },
      "source": [
        "print (\"Lets print something \")"
      ],
      "execution_count": null,
      "outputs": [
        {
          "output_type": "stream",
          "text": [
            "Lets print something \n"
          ],
          "name": "stdout"
        }
      ]
    },
    {
      "cell_type": "code",
      "metadata": {
        "id": "nhz1D5IrsIrN",
        "colab_type": "code",
        "colab": {
          "base_uri": "https://localhost:8080/",
          "height": 35
        },
        "outputId": "59c71296-4fc1-4682-f563-8c6fa35d4b68"
      },
      "source": [
        "print (\"Hi! My name is Aman \")"
      ],
      "execution_count": null,
      "outputs": [
        {
          "output_type": "stream",
          "text": [
            "Hi! My name is Aman \n"
          ],
          "name": "stdout"
        }
      ]
    },
    {
      "cell_type": "markdown",
      "metadata": {
        "id": "hAamYfqdsbmI",
        "colab_type": "text"
      },
      "source": [
        "## Variables"
      ]
    },
    {
      "cell_type": "code",
      "metadata": {
        "id": "JZAGcnjasPfx",
        "colab_type": "code",
        "colab": {}
      },
      "source": [
        "num = 1 \n",
        "my_string = \"This is a string\""
      ],
      "execution_count": null,
      "outputs": []
    },
    {
      "cell_type": "code",
      "metadata": {
        "id": "rBSwI6kqsfT6",
        "colab_type": "code",
        "colab": {
          "base_uri": "https://localhost:8080/",
          "height": 35
        },
        "outputId": "73f1c786-42e3-4730-bece-df086838e91b"
      },
      "source": [
        "print (num)\n"
      ],
      "execution_count": null,
      "outputs": [
        {
          "output_type": "stream",
          "text": [
            "1\n"
          ],
          "name": "stdout"
        }
      ]
    },
    {
      "cell_type": "code",
      "metadata": {
        "id": "WPISwkvJsxPh",
        "colab_type": "code",
        "colab": {
          "base_uri": "https://localhost:8080/",
          "height": 35
        },
        "outputId": "4eec98d4-1301-432b-e7af-55b0aebdc78f"
      },
      "source": [
        "print (my_string)"
      ],
      "execution_count": null,
      "outputs": [
        {
          "output_type": "stream",
          "text": [
            "This is a string\n"
          ],
          "name": "stdout"
        }
      ]
    },
    {
      "cell_type": "markdown",
      "metadata": {
        "id": "J8ds5mGPz4yu",
        "colab_type": "text"
      },
      "source": [
        "## Data Type - Strings"
      ]
    },
    {
      "cell_type": "code",
      "metadata": {
        "id": "4nkIF0d0z8hD",
        "colab_type": "code",
        "colab": {}
      },
      "source": [
        "my_str = \"Hello\""
      ],
      "execution_count": null,
      "outputs": []
    },
    {
      "cell_type": "code",
      "metadata": {
        "id": "WRD2u6Du0HE_",
        "colab_type": "code",
        "colab": {
          "base_uri": "https://localhost:8080/",
          "height": 35
        },
        "outputId": "2656a4e5-b590-4e72-e8e9-29d1d6069f10"
      },
      "source": [
        "print (my_str)"
      ],
      "execution_count": null,
      "outputs": [
        {
          "output_type": "stream",
          "text": [
            "Hello\n"
          ],
          "name": "stdout"
        }
      ]
    },
    {
      "cell_type": "code",
      "metadata": {
        "id": "cO-vKEaE0zDt",
        "colab_type": "code",
        "colab": {
          "base_uri": "https://localhost:8080/",
          "height": 35
        },
        "outputId": "5b7525eb-82d5-4f05-84df-d30298017377"
      },
      "source": [
        "print (my_str[0])"
      ],
      "execution_count": null,
      "outputs": [
        {
          "output_type": "stream",
          "text": [
            "H\n"
          ],
          "name": "stdout"
        }
      ]
    },
    {
      "cell_type": "code",
      "metadata": {
        "id": "YfMFG-RM1gvv",
        "colab_type": "code",
        "colab": {}
      },
      "source": [
        "different_string = \"This is a MY NAME: AMAN\""
      ],
      "execution_count": null,
      "outputs": []
    },
    {
      "cell_type": "code",
      "metadata": {
        "id": "YRgcq2sF1jhv",
        "colab_type": "code",
        "colab": {
          "base_uri": "https://localhost:8080/",
          "height": 35
        },
        "outputId": "ab5a93b3-66c2-4d8f-e67d-923be56551a7"
      },
      "source": [
        " print (\"Hello\", different_string[19:])"
      ],
      "execution_count": null,
      "outputs": [
        {
          "output_type": "stream",
          "text": [
            "Hello AMAN\n"
          ],
          "name": "stdout"
        }
      ]
    },
    {
      "cell_type": "code",
      "metadata": {
        "id": "RjiYadS73Ic_",
        "colab_type": "code",
        "colab": {
          "base_uri": "https://localhost:8080/",
          "height": 35
        },
        "outputId": "f85d00d2-46ee-4f1a-ba56-18361b86b522"
      },
      "source": [
        "print (different_string[-4:])"
      ],
      "execution_count": null,
      "outputs": [
        {
          "output_type": "stream",
          "text": [
            "AMAN\n"
          ],
          "name": "stdout"
        }
      ]
    },
    {
      "cell_type": "code",
      "metadata": {
        "id": "AdFgK7IV4O88",
        "colab_type": "code",
        "colab": {
          "base_uri": "https://localhost:8080/",
          "height": 35
        },
        "outputId": "a2dabfea-a1f0-4517-d680-ad54eb9035e5"
      },
      "source": [
        "len(different_string)"
      ],
      "execution_count": null,
      "outputs": [
        {
          "output_type": "execute_result",
          "data": {
            "text/plain": [
              "23"
            ]
          },
          "metadata": {
            "tags": []
          },
          "execution_count": 32
        }
      ]
    },
    {
      "cell_type": "code",
      "metadata": {
        "id": "BGiWo1Y84hEB",
        "colab_type": "code",
        "colab": {
          "base_uri": "https://localhost:8080/",
          "height": 35
        },
        "outputId": "b6d67016-62ea-4b3c-d1ec-a36735d9a64b"
      },
      "source": [
        "different_string.lower()"
      ],
      "execution_count": null,
      "outputs": [
        {
          "output_type": "execute_result",
          "data": {
            "application/vnd.google.colaboratory.intrinsic+json": {
              "type": "string"
            },
            "text/plain": [
              "'this is a my name: aman'"
            ]
          },
          "metadata": {
            "tags": []
          },
          "execution_count": 33
        }
      ]
    },
    {
      "cell_type": "markdown",
      "metadata": {
        "id": "92G4OcAs5UQU",
        "colab_type": "text"
      },
      "source": [
        "##Data Type - Numbers"
      ]
    },
    {
      "cell_type": "code",
      "metadata": {
        "id": "4Z9ZSpNv5WLB",
        "colab_type": "code",
        "colab": {}
      },
      "source": [
        "num1 = 3\n",
        "num2 = 4"
      ],
      "execution_count": null,
      "outputs": []
    },
    {
      "cell_type": "code",
      "metadata": {
        "id": "td8lvryo5hdb",
        "colab_type": "code",
        "colab": {}
      },
      "source": [
        "sum = num1+num2"
      ],
      "execution_count": null,
      "outputs": []
    },
    {
      "cell_type": "code",
      "metadata": {
        "id": "WDzNOwCt58bf",
        "colab_type": "code",
        "colab": {
          "base_uri": "https://localhost:8080/",
          "height": 35
        },
        "outputId": "e82262a3-d49b-416a-cc67-281df83cd3b5"
      },
      "source": [
        "print (sum)"
      ],
      "execution_count": null,
      "outputs": [
        {
          "output_type": "stream",
          "text": [
            "24\n"
          ],
          "name": "stdout"
        }
      ]
    },
    {
      "cell_type": "code",
      "metadata": {
        "id": "BHuDdLna6BFB",
        "colab_type": "code",
        "colab": {
          "base_uri": "https://localhost:8080/",
          "height": 35
        },
        "outputId": "6ab533c0-fe0d-40b7-a157-9538934c6274"
      },
      "source": [
        "num1 ** num2"
      ],
      "execution_count": null,
      "outputs": [
        {
          "output_type": "execute_result",
          "data": {
            "text/plain": [
              "81"
            ]
          },
          "metadata": {
            "tags": []
          },
          "execution_count": 48
        }
      ]
    },
    {
      "cell_type": "markdown",
      "metadata": {
        "id": "75PejcugQ_PY",
        "colab_type": "text"
      },
      "source": [
        "# Class 2"
      ]
    },
    {
      "cell_type": "markdown",
      "metadata": {
        "id": "WqVfMHFHRBEC",
        "colab_type": "text"
      },
      "source": [
        "## Recap"
      ]
    },
    {
      "cell_type": "code",
      "metadata": {
        "id": "te79TlPKRKBa",
        "colab_type": "code",
        "colab": {
          "base_uri": "https://localhost:8080/",
          "height": 52
        },
        "outputId": "ed82f06d-b55f-4317-fac1-d885681fab82"
      },
      "source": [
        "var_string = \"This is a string \"\n",
        "a = 3\n",
        "b = 5\n",
        "\n",
        "print (var_string[4:])\n",
        "c = a+b\n",
        "print (c)"
      ],
      "execution_count": 1,
      "outputs": [
        {
          "output_type": "stream",
          "text": [
            " is a string \n",
            "8\n"
          ],
          "name": "stdout"
        }
      ]
    },
    {
      "cell_type": "markdown",
      "metadata": {
        "id": "tYimLaxeRixu",
        "colab_type": "text"
      },
      "source": [
        "## Operations and Type "
      ]
    },
    {
      "cell_type": "code",
      "metadata": {
        "id": "c45zn76kRrWv",
        "colab_type": "code",
        "colab": {
          "base_uri": "https://localhost:8080/",
          "height": 34
        },
        "outputId": "6b58cb00-52ca-4216-f383-190b04f28177"
      },
      "source": [
        "a = 5.0\n",
        "\n",
        "type(a)"
      ],
      "execution_count": 2,
      "outputs": [
        {
          "output_type": "execute_result",
          "data": {
            "text/plain": [
              "float"
            ]
          },
          "metadata": {
            "tags": []
          },
          "execution_count": 2
        }
      ]
    },
    {
      "cell_type": "code",
      "metadata": {
        "id": "PlBILWt4Rt3V",
        "colab_type": "code",
        "colab": {
          "base_uri": "https://localhost:8080/",
          "height": 34
        },
        "outputId": "3b881483-c736-42e3-bd02-b3722b4070f5"
      },
      "source": [
        "s = \"5\"\n",
        "\n",
        "type(s)"
      ],
      "execution_count": 3,
      "outputs": [
        {
          "output_type": "execute_result",
          "data": {
            "text/plain": [
              "str"
            ]
          },
          "metadata": {
            "tags": []
          },
          "execution_count": 3
        }
      ]
    },
    {
      "cell_type": "code",
      "metadata": {
        "id": "TirNLZl5RyYY",
        "colab_type": "code",
        "colab": {
          "base_uri": "https://localhost:8080/",
          "height": 34
        },
        "outputId": "890d39b9-6889-4af6-a1a3-ddf5e087e22d"
      },
      "source": [
        "a + 5 # give me 10 "
      ],
      "execution_count": 4,
      "outputs": [
        {
          "output_type": "execute_result",
          "data": {
            "text/plain": [
              "10.0"
            ]
          },
          "metadata": {
            "tags": []
          },
          "execution_count": 4
        }
      ]
    },
    {
      "cell_type": "code",
      "metadata": {
        "id": "W0H7H5dDR5Dr",
        "colab_type": "code",
        "colab": {
          "base_uri": "https://localhost:8080/",
          "height": 166
        },
        "outputId": "185c5f7c-eba0-4260-a04e-0530358f781e"
      },
      "source": [
        "s + 5 # Gives me an error "
      ],
      "execution_count": 9,
      "outputs": [
        {
          "output_type": "error",
          "ename": "TypeError",
          "evalue": "ignored",
          "traceback": [
            "\u001b[0;31m---------------------------------------------------------------------------\u001b[0m",
            "\u001b[0;31mTypeError\u001b[0m                                 Traceback (most recent call last)",
            "\u001b[0;32m<ipython-input-9-0284c04bfa3d>\u001b[0m in \u001b[0;36m<module>\u001b[0;34m()\u001b[0m\n\u001b[0;32m----> 1\u001b[0;31m \u001b[0ms\u001b[0m \u001b[0;34m+\u001b[0m \u001b[0;36m5\u001b[0m \u001b[0;31m# Gives me an error\u001b[0m\u001b[0;34m\u001b[0m\u001b[0;34m\u001b[0m\u001b[0m\n\u001b[0m",
            "\u001b[0;31mTypeError\u001b[0m: must be str, not int"
          ]
        }
      ]
    },
    {
      "cell_type": "code",
      "metadata": {
        "id": "OMfeuuM3R9TU",
        "colab_type": "code",
        "colab": {
          "base_uri": "https://localhost:8080/",
          "height": 35
        },
        "outputId": "38822652-23f9-4054-8e80-6b6b27e94dfe"
      },
      "source": [
        "s + \"5\" # Will make it string 55"
      ],
      "execution_count": 10,
      "outputs": [
        {
          "output_type": "execute_result",
          "data": {
            "application/vnd.google.colaboratory.intrinsic+json": {
              "type": "string"
            },
            "text/plain": [
              "'55'"
            ]
          },
          "metadata": {
            "tags": []
          },
          "execution_count": 10
        }
      ]
    },
    {
      "cell_type": "code",
      "metadata": {
        "id": "1tQ527BtSCyg",
        "colab_type": "code",
        "colab": {
          "base_uri": "https://localhost:8080/",
          "height": 34
        },
        "outputId": "326b9e91-ab11-4f03-e6cb-5d4938ad5b9f"
      },
      "source": [
        "# what if i have to convert it to a int ?\n",
        "s = \"45\"\n",
        "\n",
        "c = int(s) + 5\n",
        "\n",
        "print (c) # Now this will give me 10 "
      ],
      "execution_count": 7,
      "outputs": [
        {
          "output_type": "stream",
          "text": [
            "50\n"
          ],
          "name": "stdout"
        }
      ]
    },
    {
      "cell_type": "markdown",
      "metadata": {
        "id": "JXKCoq9VSRa8",
        "colab_type": "text"
      },
      "source": [
        "## Defining Strings & Input "
      ]
    },
    {
      "cell_type": "code",
      "metadata": {
        "id": "uQidnGrzSf73",
        "colab_type": "code",
        "colab": {
          "base_uri": "https://localhost:8080/",
          "height": 34
        },
        "outputId": "8ced9be4-f778-410c-f584-bba1eb4c2384"
      },
      "source": [
        "my_string = 'Hey ! This is Aman !'\n",
        "\n",
        "print (my_string)"
      ],
      "execution_count": 8,
      "outputs": [
        {
          "output_type": "stream",
          "text": [
            "Hey ! This is Aman !\n"
          ],
          "name": "stdout"
        }
      ]
    },
    {
      "cell_type": "code",
      "metadata": {
        "id": "b4vkstb2SV_p",
        "colab_type": "code",
        "colab": {
          "base_uri": "https://localhost:8080/",
          "height": 131
        },
        "outputId": "efa27f90-f775-44dd-c890-bc5b64a8515f"
      },
      "source": [
        "# Give's an error why ?\n",
        "my_string = 'This is Aman's Class' "
      ],
      "execution_count": 17,
      "outputs": [
        {
          "output_type": "error",
          "ename": "SyntaxError",
          "evalue": "ignored",
          "traceback": [
            "\u001b[0;36m  File \u001b[0;32m\"<ipython-input-17-4a2fe5b82eb1>\"\u001b[0;36m, line \u001b[0;32m2\u001b[0m\n\u001b[0;31m    my_string = 'This is Aman's Class'\u001b[0m\n\u001b[0m                              ^\u001b[0m\n\u001b[0;31mSyntaxError\u001b[0m\u001b[0;31m:\u001b[0m invalid syntax\n"
          ]
        }
      ]
    },
    {
      "cell_type": "code",
      "metadata": {
        "id": "ANTHhAe_St6V",
        "colab_type": "code",
        "colab": {
          "base_uri": "https://localhost:8080/",
          "height": 34
        },
        "outputId": "3fe50071-c668-420a-fab8-b542b2fd8b94"
      },
      "source": [
        "my_string = \"This is Aman's Class\" # \"\" solves the problem of having 's\n",
        "\n",
        "print (my_string)"
      ],
      "execution_count": 18,
      "outputs": [
        {
          "output_type": "stream",
          "text": [
            "This is Aman's Class\n"
          ],
          "name": "stdout"
        }
      ]
    },
    {
      "cell_type": "code",
      "metadata": {
        "id": "Ap7WMUs1S74K",
        "colab_type": "code",
        "colab": {
          "base_uri": "https://localhost:8080/",
          "height": 52
        },
        "outputId": "feba8261-117c-4736-e5ad-1c5c785617c9"
      },
      "source": [
        "# Lets take the name from the user (someone who is running your program)\n",
        "\n",
        "name = input (\"Whats your name ? \")\n",
        "\n",
        "print (\"Hey there !\", name)"
      ],
      "execution_count": 9,
      "outputs": [
        {
          "output_type": "stream",
          "text": [
            "Whats your name ? Aman\n",
            "Hey there ! Aman\n"
          ],
          "name": "stdout"
        }
      ]
    },
    {
      "cell_type": "code",
      "metadata": {
        "id": "4X6HoJTuTRcp",
        "colab_type": "code",
        "colab": {
          "base_uri": "https://localhost:8080/",
          "height": 34
        },
        "outputId": "4be6d04d-9870-4276-b5e4-239a110fc9fe"
      },
      "source": [
        "type(name)"
      ],
      "execution_count": 22,
      "outputs": [
        {
          "output_type": "execute_result",
          "data": {
            "text/plain": [
              "str"
            ]
          },
          "metadata": {
            "tags": []
          },
          "execution_count": 22
        }
      ]
    },
    {
      "cell_type": "code",
      "metadata": {
        "id": "A5upfPOcTUR6",
        "colab_type": "code",
        "colab": {
          "base_uri": "https://localhost:8080/",
          "height": 52
        },
        "outputId": "a965fc46-67ab-4a66-e32c-b857a313a412"
      },
      "source": [
        "number = input (\"Input a number from 1-100 \")\n",
        "\n",
        "type(number)"
      ],
      "execution_count": 10,
      "outputs": [
        {
          "output_type": "stream",
          "text": [
            "Input a number from 1-100 45\n"
          ],
          "name": "stdout"
        },
        {
          "output_type": "execute_result",
          "data": {
            "text/plain": [
              "str"
            ]
          },
          "metadata": {
            "tags": []
          },
          "execution_count": 10
        }
      ]
    },
    {
      "cell_type": "code",
      "metadata": {
        "id": "7flAb8D0TjmF",
        "colab_type": "code",
        "colab": {
          "base_uri": "https://localhost:8080/",
          "height": 52
        },
        "outputId": "c3a1214a-0b73-4f06-fe84-5cd5c6f6e38a"
      },
      "source": [
        "number = int (input (\"Input a number from 1-100 \"))\n",
        "\n",
        "type (number)"
      ],
      "execution_count": 25,
      "outputs": [
        {
          "output_type": "stream",
          "text": [
            "Input a number from 1-100 45\n"
          ],
          "name": "stdout"
        },
        {
          "output_type": "execute_result",
          "data": {
            "text/plain": [
              "int"
            ]
          },
          "metadata": {
            "tags": []
          },
          "execution_count": 25
        }
      ]
    },
    {
      "cell_type": "markdown",
      "metadata": {
        "id": "smui1uCqTuDN",
        "colab_type": "text"
      },
      "source": [
        "## Lists - Collection of other data types"
      ]
    },
    {
      "cell_type": "code",
      "metadata": {
        "id": "k9BW9Lz0TyaI",
        "colab_type": "code",
        "colab": {
          "base_uri": "https://localhost:8080/",
          "height": 52
        },
        "outputId": "6c4ff555-5226-40f3-c3bf-7e727801e085"
      },
      "source": [
        "list_empty = [] # empty list \n",
        "list_people_in_class = [\"Prisha\",\"Divya\", \"Aman\"] # List contains names of people in today's class\n",
        "\n",
        "print (list_empty)\n",
        "print(list_people_in_class)"
      ],
      "execution_count": 28,
      "outputs": [
        {
          "output_type": "stream",
          "text": [
            "[]\n",
            "['Prisha', 'Divya', 'Aman']\n"
          ],
          "name": "stdout"
        }
      ]
    },
    {
      "cell_type": "markdown",
      "metadata": {
        "id": "HUPD1YNVUU3L",
        "colab_type": "text"
      },
      "source": [
        "### List operations"
      ]
    },
    {
      "cell_type": "code",
      "metadata": {
        "id": "J2riA5x1UXki",
        "colab_type": "code",
        "colab": {
          "base_uri": "https://localhost:8080/",
          "height": 52
        },
        "outputId": "f139ce8f-e5e2-4ad0-abb5-ae99fedec522"
      },
      "source": [
        "states = []\n",
        "\n",
        "print (states)\n",
        "\n",
        "type(states)"
      ],
      "execution_count": 13,
      "outputs": [
        {
          "output_type": "stream",
          "text": [
            "[]\n"
          ],
          "name": "stdout"
        },
        {
          "output_type": "execute_result",
          "data": {
            "text/plain": [
              "list"
            ]
          },
          "metadata": {
            "tags": []
          },
          "execution_count": 13
        }
      ]
    },
    {
      "cell_type": "code",
      "metadata": {
        "id": "voWQng_tUcCg",
        "colab_type": "code",
        "colab": {
          "base_uri": "https://localhost:8080/",
          "height": 34
        },
        "outputId": "5ca3d45e-73c3-43b8-e999-0857d66358ad"
      },
      "source": [
        "states.append(\"New York\")\n",
        "\n",
        "print (states)"
      ],
      "execution_count": 14,
      "outputs": [
        {
          "output_type": "stream",
          "text": [
            "['New York']\n"
          ],
          "name": "stdout"
        }
      ]
    },
    {
      "cell_type": "code",
      "metadata": {
        "id": "xzCihynEUkId",
        "colab_type": "code",
        "colab": {
          "base_uri": "https://localhost:8080/",
          "height": 34
        },
        "outputId": "c3e940d3-e651-492a-f86f-647a63acab2c"
      },
      "source": [
        "states.append(\"New Jersey\")\n",
        "\n",
        "print (states)"
      ],
      "execution_count": 15,
      "outputs": [
        {
          "output_type": "stream",
          "text": [
            "['New York', 'New Jersey']\n"
          ],
          "name": "stdout"
        }
      ]
    },
    {
      "cell_type": "code",
      "metadata": {
        "id": "vRjhWVgwU5Pm",
        "colab_type": "code",
        "colab": {
          "base_uri": "https://localhost:8080/",
          "height": 34
        },
        "outputId": "d998bc1f-4234-42a7-af6d-1abdc9f96742"
      },
      "source": [
        "states.remove('New Jersey')\n",
        "\n",
        "print (states)"
      ],
      "execution_count": 16,
      "outputs": [
        {
          "output_type": "stream",
          "text": [
            "['New York']\n"
          ],
          "name": "stdout"
        }
      ]
    },
    {
      "cell_type": "code",
      "metadata": {
        "id": "SV5T6mKHVA01",
        "colab_type": "code",
        "colab": {
          "base_uri": "https://localhost:8080/",
          "height": 34
        },
        "outputId": "e0c0f782-3f83-4fe6-e3ba-8795abc01adb"
      },
      "source": [
        "states.insert(0, \"New Jersey\")\n",
        "print (states)"
      ],
      "execution_count": 17,
      "outputs": [
        {
          "output_type": "stream",
          "text": [
            "['New Jersey', 'New York']\n"
          ],
          "name": "stdout"
        }
      ]
    },
    {
      "cell_type": "code",
      "metadata": {
        "id": "D1CeKT7PVXte",
        "colab_type": "code",
        "colab": {}
      },
      "source": [
        "states[0] = \"Massachusetts\""
      ],
      "execution_count": 18,
      "outputs": []
    },
    {
      "cell_type": "code",
      "metadata": {
        "id": "oPl554_CVX3x",
        "colab_type": "code",
        "colab": {
          "base_uri": "https://localhost:8080/",
          "height": 34
        },
        "outputId": "c5df4d66-cc5d-4617-eba5-de70480992c7"
      },
      "source": [
        "print (states)"
      ],
      "execution_count": 19,
      "outputs": [
        {
          "output_type": "stream",
          "text": [
            "['Massachusetts', 'New York']\n"
          ],
          "name": "stdout"
        }
      ]
    },
    {
      "cell_type": "code",
      "metadata": {
        "id": "x4KH-m2OVs-l",
        "colab_type": "code",
        "colab": {
          "base_uri": "https://localhost:8080/",
          "height": 34
        },
        "outputId": "71a31f1f-2a06-494f-9423-849f4fda97bd"
      },
      "source": [
        "states.insert(1, \"New Jersey\")\n",
        "\n",
        "print (states)"
      ],
      "execution_count": 20,
      "outputs": [
        {
          "output_type": "stream",
          "text": [
            "['Massachusetts', 'New Jersey', 'New York']\n"
          ],
          "name": "stdout"
        }
      ]
    },
    {
      "cell_type": "code",
      "metadata": {
        "id": "KDDO6UFHVzBN",
        "colab_type": "code",
        "colab": {
          "base_uri": "https://localhost:8080/",
          "height": 34
        },
        "outputId": "0a751900-caf6-43af-d068-d24e249fc323"
      },
      "source": [
        "print (states)"
      ],
      "execution_count": 25,
      "outputs": [
        {
          "output_type": "stream",
          "text": [
            "['Massachusetts', 'New Jersey', 'New York']\n"
          ],
          "name": "stdout"
        }
      ]
    },
    {
      "cell_type": "code",
      "metadata": {
        "id": "xDmuedk4VHGj",
        "colab_type": "code",
        "colab": {
          "base_uri": "https://localhost:8080/",
          "height": 34
        },
        "outputId": "d84e5962-6669-42dd-9248-93a232c8b3e2"
      },
      "source": [
        "states.sort()\n",
        "print (states)"
      ],
      "execution_count": 26,
      "outputs": [
        {
          "output_type": "stream",
          "text": [
            "['Massachusetts', 'New Jersey', 'New York']\n"
          ],
          "name": "stdout"
        }
      ]
    },
    {
      "cell_type": "markdown",
      "metadata": {
        "id": "N1xoVTf0WG2V",
        "colab_type": "text"
      },
      "source": [
        "## Class Excercise \n",
        "Name Greeter, take a name and chose a different greeting from a list "
      ]
    },
    {
      "cell_type": "code",
      "metadata": {
        "id": "UMgN5JOLWRGP",
        "colab_type": "code",
        "colab": {
          "base_uri": "https://localhost:8080/",
          "height": 52
        },
        "outputId": "b23c6a73-9651-40d0-8a90-7c9ad8998a6d"
      },
      "source": [
        "list_greeting = [\"Hello \", \"Hey \", \"Bonjour \", \"Namaste \", \"Hola \", \"Shalom \"]\n",
        "\n",
        "name = input (\"Hey there ! Whats your name ?\")\n",
        "\n",
        "import random\n",
        "\n",
        "greeting = random.choice(list_greeting)\n",
        "print (greeting, name)"
      ],
      "execution_count": 33,
      "outputs": [
        {
          "output_type": "stream",
          "text": [
            "Hey there ! Whats your name ?Aman\n",
            "Hey  Aman\n"
          ],
          "name": "stdout"
        }
      ]
    }
  ]
}
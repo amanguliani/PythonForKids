{
  "nbformat": 4,
  "nbformat_minor": 0,
  "metadata": {
    "colab": {
      "name": "Practice Book Python Class - Aman",
      "provenance": [],
      "collapsed_sections": []
    },
    "kernelspec": {
      "name": "python3",
      "display_name": "Python 3"
    }
  },
  "cells": [
    {
      "cell_type": "markdown",
      "metadata": {
        "id": "bOrUY_36rT3W",
        "colab_type": "text"
      },
      "source": [
        "# Class 1"
      ]
    },
    {
      "cell_type": "markdown",
      "metadata": {
        "id": "f_abhSPbsWkN",
        "colab_type": "text"
      },
      "source": [
        "##Printing"
      ]
    },
    {
      "cell_type": "code",
      "metadata": {
        "id": "jszRzuQMrYzE",
        "colab_type": "code",
        "colab": {
          "base_uri": "https://localhost:8080/",
          "height": 35
        },
        "outputId": "8eb80838-bce7-408f-eba4-c65c818a7f8e"
      },
      "source": [
        "print (\"Lets print something \")"
      ],
      "execution_count": 1,
      "outputs": [
        {
          "output_type": "stream",
          "text": [
            "Lets print something \n"
          ],
          "name": "stdout"
        }
      ]
    },
    {
      "cell_type": "code",
      "metadata": {
        "id": "nhz1D5IrsIrN",
        "colab_type": "code",
        "colab": {
          "base_uri": "https://localhost:8080/",
          "height": 35
        },
        "outputId": "59c71296-4fc1-4682-f563-8c6fa35d4b68"
      },
      "source": [
        "print (\"Hi! My name is Aman \")"
      ],
      "execution_count": 2,
      "outputs": [
        {
          "output_type": "stream",
          "text": [
            "Hi! My name is Aman \n"
          ],
          "name": "stdout"
        }
      ]
    },
    {
      "cell_type": "markdown",
      "metadata": {
        "id": "hAamYfqdsbmI",
        "colab_type": "text"
      },
      "source": [
        "## Variables"
      ]
    },
    {
      "cell_type": "code",
      "metadata": {
        "id": "JZAGcnjasPfx",
        "colab_type": "code",
        "colab": {}
      },
      "source": [
        "num = 1 \n",
        "my_string = \"This is a string\""
      ],
      "execution_count": 6,
      "outputs": []
    },
    {
      "cell_type": "code",
      "metadata": {
        "id": "rBSwI6kqsfT6",
        "colab_type": "code",
        "colab": {
          "base_uri": "https://localhost:8080/",
          "height": 35
        },
        "outputId": "73f1c786-42e3-4730-bece-df086838e91b"
      },
      "source": [
        "print (num)\n"
      ],
      "execution_count": 4,
      "outputs": [
        {
          "output_type": "stream",
          "text": [
            "1\n"
          ],
          "name": "stdout"
        }
      ]
    },
    {
      "cell_type": "code",
      "metadata": {
        "id": "WPISwkvJsxPh",
        "colab_type": "code",
        "colab": {
          "base_uri": "https://localhost:8080/",
          "height": 35
        },
        "outputId": "4eec98d4-1301-432b-e7af-55b0aebdc78f"
      },
      "source": [
        "print (my_string)"
      ],
      "execution_count": 7,
      "outputs": [
        {
          "output_type": "stream",
          "text": [
            "This is a string\n"
          ],
          "name": "stdout"
        }
      ]
    },
    {
      "cell_type": "markdown",
      "metadata": {
        "id": "J8ds5mGPz4yu",
        "colab_type": "text"
      },
      "source": [
        "## Data Type - Strings"
      ]
    },
    {
      "cell_type": "code",
      "metadata": {
        "id": "4nkIF0d0z8hD",
        "colab_type": "code",
        "colab": {}
      },
      "source": [
        "my_str = \"Hello\""
      ],
      "execution_count": 8,
      "outputs": []
    },
    {
      "cell_type": "code",
      "metadata": {
        "id": "WRD2u6Du0HE_",
        "colab_type": "code",
        "colab": {
          "base_uri": "https://localhost:8080/",
          "height": 35
        },
        "outputId": "2656a4e5-b590-4e72-e8e9-29d1d6069f10"
      },
      "source": [
        "print (my_str)"
      ],
      "execution_count": 9,
      "outputs": [
        {
          "output_type": "stream",
          "text": [
            "Hello\n"
          ],
          "name": "stdout"
        }
      ]
    },
    {
      "cell_type": "code",
      "metadata": {
        "id": "cO-vKEaE0zDt",
        "colab_type": "code",
        "colab": {
          "base_uri": "https://localhost:8080/",
          "height": 35
        },
        "outputId": "5b7525eb-82d5-4f05-84df-d30298017377"
      },
      "source": [
        "print (my_str[0])"
      ],
      "execution_count": 11,
      "outputs": [
        {
          "output_type": "stream",
          "text": [
            "H\n"
          ],
          "name": "stdout"
        }
      ]
    },
    {
      "cell_type": "code",
      "metadata": {
        "id": "YfMFG-RM1gvv",
        "colab_type": "code",
        "colab": {}
      },
      "source": [
        "different_string = \"This is a MY NAME: AMAN\""
      ],
      "execution_count": 21,
      "outputs": []
    },
    {
      "cell_type": "code",
      "metadata": {
        "id": "YRgcq2sF1jhv",
        "colab_type": "code",
        "colab": {
          "base_uri": "https://localhost:8080/",
          "height": 35
        },
        "outputId": "ab5a93b3-66c2-4d8f-e67d-923be56551a7"
      },
      "source": [
        " print (\"Hello\", different_string[19:])"
      ],
      "execution_count": 25,
      "outputs": [
        {
          "output_type": "stream",
          "text": [
            "Hello AMAN\n"
          ],
          "name": "stdout"
        }
      ]
    },
    {
      "cell_type": "code",
      "metadata": {
        "id": "RjiYadS73Ic_",
        "colab_type": "code",
        "colab": {
          "base_uri": "https://localhost:8080/",
          "height": 35
        },
        "outputId": "f85d00d2-46ee-4f1a-ba56-18361b86b522"
      },
      "source": [
        "print (different_string[-4:])"
      ],
      "execution_count": 31,
      "outputs": [
        {
          "output_type": "stream",
          "text": [
            "AMAN\n"
          ],
          "name": "stdout"
        }
      ]
    },
    {
      "cell_type": "code",
      "metadata": {
        "id": "AdFgK7IV4O88",
        "colab_type": "code",
        "colab": {
          "base_uri": "https://localhost:8080/",
          "height": 35
        },
        "outputId": "a2dabfea-a1f0-4517-d680-ad54eb9035e5"
      },
      "source": [
        "len(different_string)"
      ],
      "execution_count": 32,
      "outputs": [
        {
          "output_type": "execute_result",
          "data": {
            "text/plain": [
              "23"
            ]
          },
          "metadata": {
            "tags": []
          },
          "execution_count": 32
        }
      ]
    },
    {
      "cell_type": "code",
      "metadata": {
        "id": "BGiWo1Y84hEB",
        "colab_type": "code",
        "colab": {
          "base_uri": "https://localhost:8080/",
          "height": 35
        },
        "outputId": "b6d67016-62ea-4b3c-d1ec-a36735d9a64b"
      },
      "source": [
        "different_string.lower()"
      ],
      "execution_count": 33,
      "outputs": [
        {
          "output_type": "execute_result",
          "data": {
            "application/vnd.google.colaboratory.intrinsic+json": {
              "type": "string"
            },
            "text/plain": [
              "'this is a my name: aman'"
            ]
          },
          "metadata": {
            "tags": []
          },
          "execution_count": 33
        }
      ]
    },
    {
      "cell_type": "markdown",
      "metadata": {
        "id": "92G4OcAs5UQU",
        "colab_type": "text"
      },
      "source": [
        "##Data Type - Numbers"
      ]
    },
    {
      "cell_type": "code",
      "metadata": {
        "id": "4Z9ZSpNv5WLB",
        "colab_type": "code",
        "colab": {}
      },
      "source": [
        "num1 = 3\n",
        "num2 = 4"
      ],
      "execution_count": 47,
      "outputs": []
    },
    {
      "cell_type": "code",
      "metadata": {
        "id": "td8lvryo5hdb",
        "colab_type": "code",
        "colab": {}
      },
      "source": [
        "sum = num1+num2"
      ],
      "execution_count": 36,
      "outputs": []
    },
    {
      "cell_type": "code",
      "metadata": {
        "id": "WDzNOwCt58bf",
        "colab_type": "code",
        "colab": {
          "base_uri": "https://localhost:8080/",
          "height": 35
        },
        "outputId": "e82262a3-d49b-416a-cc67-281df83cd3b5"
      },
      "source": [
        "print (sum)"
      ],
      "execution_count": 37,
      "outputs": [
        {
          "output_type": "stream",
          "text": [
            "24\n"
          ],
          "name": "stdout"
        }
      ]
    },
    {
      "cell_type": "code",
      "metadata": {
        "id": "BHuDdLna6BFB",
        "colab_type": "code",
        "colab": {
          "base_uri": "https://localhost:8080/",
          "height": 35
        },
        "outputId": "6ab533c0-fe0d-40b7-a157-9538934c6274"
      },
      "source": [
        "num1 ** num2"
      ],
      "execution_count": 48,
      "outputs": [
        {
          "output_type": "execute_result",
          "data": {
            "text/plain": [
              "81"
            ]
          },
          "metadata": {
            "tags": []
          },
          "execution_count": 48
        }
      ]
    }
  ]
}